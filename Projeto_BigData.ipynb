{
  "nbformat": 4,
  "nbformat_minor": 0,
  "metadata": {
    "colab": {
      "provenance": [],
      "mount_file_id": "1EQ9GhNw9yIIyb2_Mg0cSld3aI_3BfntO",
      "authorship_tag": "ABX9TyN0vQmxFjJ4TUlEgMuSIPBg",
      "include_colab_link": true
    },
    "kernelspec": {
      "name": "python3",
      "display_name": "Python 3"
    },
    "language_info": {
      "name": "python"
    }
  },
  "cells": [
    {
      "cell_type": "markdown",
      "metadata": {
        "id": "view-in-github",
        "colab_type": "text"
      },
      "source": [
        "<a href=\"https://colab.research.google.com/github/Ju-Nascimento/Big_Data/blob/main/Projeto_BigData.ipynb\" target=\"_parent\"><img src=\"https://colab.research.google.com/assets/colab-badge.svg\" alt=\"Open In Colab\"/></a>"
      ]
    },
    {
      "cell_type": "code",
      "execution_count": null,
      "metadata": {
        "id": "ltwocUCxUDNF"
      },
      "outputs": [],
      "source": [
        "!apt-get install openjdk-8-jdk-headless -qq> /dev/null\n",
        "!wget -q https://archive.apache.org/dist/spark/spark-3.1.2/spark-3.1.2-bin-hadoop2.7.tgz\n",
        "!tar xf spark-3.1.2-bin-hadoop2.7.tgz"
      ]
    },
    {
      "cell_type": "code",
      "source": [
        "import os\n",
        "os.environ[\"JAVA_HOME\"] = \"/usr/lib/jvm/java-8-openjdk-amd64\"\n",
        "os.environ[\"SPARK_HOME\"] =\"/content/spark-3.1.2-bin-hadoop2.7\"\n",
        "!pip install -q findspark"
      ],
      "metadata": {
        "id": "T4L9nkDCUvKR"
      },
      "execution_count": null,
      "outputs": []
    },
    {
      "cell_type": "code",
      "source": [
        "import findspark\n",
        "findspark.init()"
      ],
      "metadata": {
        "id": "i4cIgFEuU1DD"
      },
      "execution_count": null,
      "outputs": []
    },
    {
      "cell_type": "code",
      "source": [
        "from pyspark.sql import SparkSession\n",
        "\n",
        "# Criação da SparkSession\n",
        "spark = SparkSession.builder.master('local[*]').getOrCreate()\n",
        "\n",
        "# Caminho do arquivo CSV\n",
        "file_path = \"/content/drive/MyDrive/Colab Notebooks/Dados.csv\"\n",
        "\n",
        "# Leitura do arquivo CSV com PySpark\n",
        "df = spark.read.csv(file_path, header=True, inferSchema=True, encoding='ISO-8859-1')\n",
        "\n",
        "# Mostrar as primeiras linhas do DataFrame\n",
        "df.show()"
      ],
      "metadata": {
        "colab": {
          "base_uri": "https://localhost:8080/"
        },
        "collapsed": true,
        "id": "-g4Opu98U4rK",
        "outputId": "4148e4a3-f598-410d-9000-306f090d2e44"
      },
      "execution_count": null,
      "outputs": [
        {
          "output_type": "stream",
          "name": "stdout",
          "text": [
            "+--------------------+--------------------+--------------+------------+------------+-------------+-----------+---------------+----------------------+----------------------+------------------+-------------+-------------+------------+------------+------------+----------------------+--------------------------+-------------+--------------+---------------------+---------------------+---------------------+---------------+----------------------+------------------+-------------+--------------+-----------+\n",
            "|               Track|          Album Name|        Artist|Release Date|        ISRC|All Time Rank|Track Score|Spotify Streams|Spotify Playlist Count|Spotify Playlist Reach|Spotify Popularity|YouTube Views|YouTube Likes|TikTok Posts|TikTok Likes|TikTok Views|YouTube Playlist Reach|Apple Music Playlist Count|AirPlay Spins|SiriusXM Spins|Deezer Playlist Count|Deezer Playlist Reach|Amazon Playlist Count|Pandora Streams|Pandora Track Stations|Soundcloud Streams|Shazam Counts|Explicit Track|Unnamed: 28|\n",
            "+--------------------+--------------------+--------------+------------+------------+-------------+-----------+---------------+----------------------+----------------------+------------------+-------------+-------------+------------+------------+------------+----------------------+--------------------------+-------------+--------------+---------------------+---------------------+---------------------+---------------+----------------------+------------------+-------------+--------------+-----------+\n",
            "| MILLION DOLLAR BABY|Million Dollar Ba...| Tommy Richman|  26/04/2024|QM24S2402528|            1|      725,4|      390470936|                 30716|             196631588|              92.0|     84274754|      1713126|     5767700|   651565900|  5332281936|             150597040|                     210.0|        40975|         684.0|                 62.0|             17598718|                114.0|       18004655|                 22931|           4818457|      2669262|           0.0|       null|\n",
            "|         Not Like Us|         Not Like Us|Kendrick Lamar|  04/05/2024|USUG12400910|            2|      545,9|      323703884|                 28113|             174597137|              92.0|    116347040|      3486739|      674700|    35223547|   208339025|             156380351|                     188.0|        40778|           3.0|                 67.0|             10422430|                111.0|        7780028|                 28444|           6623075|      1118279|           1.0|       null|\n",
            "|i like the way yo...|I like the way yo...|       Artemas|  19/03/2024|QZJ842400387|            3|      538,4|      601309283|                 54331|             211607669|              92.0|    122599116|      2228730|     3025400|   275154237|  3369120610|             373784955|                     190.0|        74333|         536.0|                136.0|             36321847|                172.0|        5022621|                  5639|           7208651|      5285340|           0.0|       null|\n",
            "|             Flowers|    Flowers - Single|   Miley Cyrus|  12/01/2023|USSM12209777|            4|      444,9|     2031280633|                269802|             136569078|              85.0|   1096100899|     10629796|     7189811|  1078757968| 14603725994|            3351188582|                     394.0|      1474799|        2182.0|                264.0|             24684248|                210.0|      190260277|                203384|              null|     11822942|           0.0|       null|\n",
            "|             Houdini|             Houdini|        Eminem|  31/05/2024|USUG12403398|            5|      423,3|      107034922|                  7223|             151469874|              88.0|     77373957|      3670188|       16400|        null|        null|             112763851|                     182.0|        12185|           1.0|                 82.0|             17660624|                105.0|        4493884|                  7006|            207179|       457017|           1.0|       null|\n",
            "|         Lovin On Me|         Lovin On Me|   Jack Harlow|  10/11/2023|USAT22311371|            6|      410,1|      670665438|                105892|             175421034|              83.0|    131148091|      1392593|     4202367|   214943489|  2938686633|            2867222632|                     138.0|       522042|        4654.0|                 86.0|             17167254|                152.0|      138529362|                 50982|           9438601|      4517131|           1.0|       null|\n",
            "|    Beautiful Things|    Beautiful Things|  Benson Boone|  18/01/2024|USWB12307016|            7|      407,2|      900158751|                 73118|             201585714|              86.0|    308723145|      4120760|        null|    29584940|   534915313|            4601579812|                     280.0|       383478|         429.0|                168.0|             48197850|                154.0|       65447476|                 57372|              null|      9990302|           0.0|       null|\n",
            "|           Gata Only|           Gata Only|    FloyyMenor|  02/02/2024|QZL382406049|            8|      375,8|      675079153|                 40094|             211236940|              92.0|    228382568|      1439495|     3500000|   338546668|  3804584163|            2112581620|                     160.0|        17221|          30.0|                 87.0|             33245595|                 53.0|        3372428|                  5762|              null|      6063523|           1.0|       null|\n",
            "|BAND4BAND (feat. ...|BAND4BAND (feat. ...|   Central Cee|  23/05/2024|USSM12404354|           10|      330,6|       90676573|                 10400|             184199419|              86.0|     32735244|       988682|      325800|   121574500|   974656200|             174706874|                     191.0|         3823|         117.0|                 78.0|             10800098|                 92.0|        1005626|                   842|           3679709|       666302|           1.0|       null|\n",
            "|I Had Some Help (...|     I Had Some Help|   Post Malone|  10/05/2024|USUM72404990|           11|      322,1|      250080413|                 16219|             168766158|              91.0|     32229063|       550191|        null|      184500|     2100000|             327130768|                     157.0|        62312|          71.0|                 60.0|             12009073|                114.0|       23155471|                 21172|           1594605|       963413|           1.0|       null|\n",
            "|            The Door|            The Door|   Teddy Swims|  14/06/2024|USWB12402486|           12|      320,2|      111155129|                     2|                263767|              null|         null|         null|        null|        null|        null|                  null|                      null|         null|          null|                 null|                 null|                  2.0|           null|                  null|              null|         null|           1.0|       null|\n",
            "|               LUNCH|HIT ME HARD AND SOFT| Billie Eilish|  17/05/2024|USUM72401991|           13|      316,3|      221636195|                 13800|             197280692|              92.0|     40022524|      1307290|      195300|    45889000|   360017000|             342107131|                     244.0|        41344|          45.0|                138.0|             38243636|                163.0|        1354692|                  1219|           1313357|       450344|           0.0|       null|\n",
            "|           Like That|  WE DON'T TRUST YOU|        Future|  22/03/2024|USSM12402041|           14|      308,2|      355186436|                 43025|             108168634|              88.0|     98081493|      1456177|        null|        null|        null|             174491415|                     153.0|        90237|           3.0|                 55.0|              3001826|                109.0|       26252264|                 18364|          12038034|      1963314|           1.0|       null|\n",
            "|      bathroom floor|      bathroom floor|Kids With Buns|  07/10/2022|NLC242100307|           15|      301,6|         297185|                   277|                 24445|              12.0|   6736502312|     16785489|           3|        1088|       22234|                  null|                       1.0|         1057|          null|                 null|                 null|                 null|           null|                  null|              null|         3288|           0.0|       null|\n",
            "|                LALA|       LALA - Single|   Myke Towers|  22/03/2023|USWL12300002|           16|      299,9|      925655569|                103605|              79944921|              79.0|    934302031|      4294166|    11054500|   521725116|  7499234052|            2042145659|                      94.0|        92231|         228.0|                 60.0|              5633435|                 83.0|       12171026|                 13242|            871978|      2765808|           1.0|       null|\n",
            "|Fortnight (feat. ...|THE TORTURED POET...|  Taylor Swift|  18/04/2024|USUG12401028|           17|      297,6|      395433400|                 12784|             177932568|              89.0|    104673836|      2484083|      139300|    25348800|   207317000|             268893710|                     221.0|       129968|           3.0|                 99.0|             37988531|                134.0|        9961769|                 13437|            377734|      1210029|           0.0|       null|\n",
            "|              greedy|              greedy|    Tate McRae|  14/09/2023|USRC12301932|           18|      293,7|     1258569694|                105218|             198845580|              87.0|    141646818|      1514837|     2294429|   419319161|  5456156211|            2667285437|                     207.0|       667329|        3310.0|                188.0|             21788568|                150.0|       44850379|                 12270|              null|      6973652|           1.0|       null|\n",
            "|                BLUE|HIT ME HARD AND SOFT| Billie Eilish|  17/05/2024|USUM72401996|           19|      292,6|       91272461|                  6499|              52287548|              86.0|     16038053|       569377|      941900|   119740900|  1225345800|               5839168|                      76.0|          181|           1.0|                 24.0|              5054005|                 33.0|         283089|                   162|            975891|       257661|           0.0|       null|\n",
            "|           As It Was|           As It Was|  Harry Styles|  31/03/2022|USSM12200612|           20|        292|     3301814535|                407119|             169783402|              87.0|    800899315|      9101589|     2755903|  1633970617| 15405881843|            7289707052|                     455.0|      1777811|        4909.0|                330.0|             12907852|                189.0|      132624772|                 79909|              null|     14967379|           0.0|       null|\n",
            "|  Paint The Town Red|  Paint The Town Red|      Doja Cat|  04/08/2023|USRC12300907|           21|      290,5|     1065399331|                170890|             121712197|              78.0|    240970670|      2749668|     3091732|   652428798|  7095564106|            1063591802|                     158.0|       400899|         273.0|                143.0|             13718632|                146.0|       70291476|                 49111|              null|      7559816|           1.0|       null|\n",
            "+--------------------+--------------------+--------------+------------+------------+-------------+-----------+---------------+----------------------+----------------------+------------------+-------------+-------------+------------+------------+------------+----------------------+--------------------------+-------------+--------------+---------------------+---------------------+---------------------+---------------+----------------------+------------------+-------------+--------------+-----------+\n",
            "only showing top 20 rows\n",
            "\n"
          ]
        }
      ]
    },
    {
      "cell_type": "code",
      "source": [
        "spotify_streams = df.groupBy(\"Track\") \\\n",
        "    .sum(\"Spotify Streams\") \\\n",
        "    .orderBy(\"sum(Spotify Streams)\", ascending=False)\n",
        "\n",
        "print(\"Musicas mais ouvidas do spotify: \")\n",
        "spotify_streams.show(10)\n",
        "\n",
        "spotify_artists = df.groupBy(\"Artist\") \\\n",
        "    .sum(\"Spotify Streams\") \\\n",
        "    .orderBy(\"sum(Spotify Streams)\", ascending=False)\n",
        "\n",
        "print(\"Artistas com mais streams no Spotify:\")\n",
        "spotify_artists.show(10)\n",
        "\n",
        "tiktok_views = df.groupBy(\"Artist\") \\\n",
        "    .sum(\"TikTok Views\") \\\n",
        "    .orderBy(\"sum(TikTok Views)\", ascending=False)\n",
        "\n",
        "print(\"Artistas com mais vizualizações no Tik Tok: \")\n",
        "tiktok_views.show(10)\n",
        "\n",
        "youtube_views = df.groupBy(\"Artist\") \\\n",
        "    .sum(\"YouTube Views\") \\\n",
        "    .orderBy(\"sum(YouTube Views)\", ascending=False)\n",
        "\n",
        "print(\"Artistas com mais vizualizações no Youtube: \")\n",
        "youtube_views.show(10)\n"
      ],
      "metadata": {
        "id": "w7CODIIUWn9t",
        "colab": {
          "base_uri": "https://localhost:8080/"
        },
        "outputId": "60392b08-e8a3-4d7e-87d9-d71f72af4bcb"
      },
      "execution_count": null,
      "outputs": [
        {
          "output_type": "stream",
          "name": "stdout",
          "text": [
            "Musicas mais ouvidas do spotify: \n",
            "+--------------------+--------------------+\n",
            "|               Track|sum(Spotify Streams)|\n",
            "+--------------------+--------------------+\n",
            "|Danza Kuduro - Cover|         18096352637|\n",
            "|Cake By The Ocean...|         14550701622|\n",
            "|               FALSO|         12632427650|\n",
            "|          Without Me|          6336157140|\n",
            "|             Flowers|          6333167114|\n",
            "|           Kill Bill|          5590251842|\n",
            "|       XO Tour Llif3|          4246916078|\n",
            "|          In the End|          4091024842|\n",
            "|INDUSTRY BABY (fe...|          4029919450|\n",
            "|     Save Your Tears|          3991023904|\n",
            "+--------------------+--------------------+\n",
            "only showing top 10 rows\n",
            "\n",
            "Artistas com mais streams no Spotify:\n",
            "+-------------+--------------------+\n",
            "|       Artist|sum(Spotify Streams)|\n",
            "+-------------+--------------------+\n",
            "|    Bad Bunny|         36224177916|\n",
            "| Taylor Swift|         32282524032|\n",
            "|        Drake|         28890155397|\n",
            "|   The Weeknd|         24803516269|\n",
            "|MUSIC LAB JPN|         22829123866|\n",
            "|Ariana Grande|         22583126267|\n",
            "|  Post Malone|         17337330725|\n",
            "|       Eminem|         16683944401|\n",
            "|   Bruno Mars|         16225111478|\n",
            "|     Maroon 5|         16000309235|\n",
            "+-------------+--------------------+\n",
            "only showing top 10 rows\n",
            "\n",
            "Artistas com mais vizualizações no Tik Tok: \n",
            "+--------------+-----------------+\n",
            "|        Artist|sum(TikTok Views)|\n",
            "+--------------+-----------------+\n",
            "|     Bad Bunny|      19963693476|\n",
            "|  Taylor Swift|      16051926860|\n",
            "|         Drake|      13811991555|\n",
            "|    The Weeknd|      10857478942|\n",
            "|Rauw Alejandro|       9958996929|\n",
            "| Billie Eilish|       9852984194|\n",
            "|       KAROL G|       8316048820|\n",
            "| Ariana Grande|       8189095927|\n",
            "|     BLACKPINK|       7872315528|\n",
            "|   LE SSERAFIM|       7234935930|\n",
            "+--------------+-----------------+\n",
            "only showing top 10 rows\n",
            "\n",
            "Artistas com mais vizualizações no Youtube: \n",
            "+-------------+------------------+\n",
            "|       Artist|sum(YouTube Views)|\n",
            "+-------------+------------------+\n",
            "|    Bad Bunny|       24676183363|\n",
            "|Ariana Grande|       18072869586|\n",
            "|      KAROL G|       14783437982|\n",
            "|   The Weeknd|       13401115700|\n",
            "| Taylor Swift|       12893408403|\n",
            "|          BTS|       12379927004|\n",
            "|        Drake|       11475001911|\n",
            "|       Eminem|       11326798199|\n",
            "|    BLACKPINK|       10448412358|\n",
            "|      Rihanna|       10188518812|\n",
            "+-------------+------------------+\n",
            "only showing top 10 rows\n",
            "\n"
          ]
        }
      ]
    },
    {
      "cell_type": "markdown",
      "source": [
        "\n",
        "\n",
        "1.   x Analises separadas por artistas\n",
        "2.   Analise separada por musica\n",
        "3.   Analise separada por album\n",
        "4.   Media de popularidade\n",
        "5.   Analise individual por plataformas\n",
        "6.   Insigiths sobre genero e país\n",
        "7.   Graficos com Matplot Lib\n",
        "\n"
      ],
      "metadata": {
        "id": "GZASlrX8VG84"
      }
    }
  ]
}